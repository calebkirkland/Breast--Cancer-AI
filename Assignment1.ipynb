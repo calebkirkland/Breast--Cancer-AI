{
  "nbformat": 4,
  "nbformat_minor": 0,
  "metadata": {
    "colab": {
      "name": "Assignment1.ipynb",
      "provenance": [],
      "toc_visible": true
    },
    "kernelspec": {
      "name": "python3",
      "display_name": "Python 3"
    }
  },
  "cells": [
    {
      "cell_type": "markdown",
      "metadata": {
        "id": "bl8rXjl8rWu_"
      },
      "source": [
        "This is Caleb Kirkland's (cok18@msstate.edu) source code for Assignment 1 in CSE 4633"
      ]
    },
    {
      "cell_type": "markdown",
      "metadata": {
        "id": "2w3dP8r6reYy"
      },
      "source": [
        "Question 2: Apply SVM to do classification on breast cancer dataset, and report the accuracy."
      ]
    },
    {
      "cell_type": "code",
      "metadata": {
        "id": "nHHtLvObrgWR"
      },
      "source": [
        "\"\"\"\r\n",
        "Author: Caleb Kirkland \r\n",
        "Student Email: cok18@msstate.edu\r\n",
        "CSE 4633 Assignment 1: Question 2\r\n",
        "Goal: We want to use the sklearn SVM to do classification on a breast cancer data\r\n",
        "set. These breast leasions can be classified as either malignant or benign. We \r\n",
        "need to predict the diagnosis of each sample and then report the accuracy of our \r\n",
        "prediction.\r\n",
        "\"\"\"\r\n",
        "\r\n",
        "import numpy as np"
      ],
      "execution_count": 9,
      "outputs": []
    },
    {
      "cell_type": "code",
      "metadata": {
        "id": "hQh6X-VTrsEB"
      },
      "source": [
        "# Loads the breast cancer dataset and sets x, y to data and target respectively. \r\n",
        "from sklearn.datasets import load_breast_cancer\r\n",
        "cancer_data = load_breast_cancer()\r\n",
        "x = cancer_data.data # Feature Matrix\r\n",
        "y = cancer_data.target # Target Array"
      ],
      "execution_count": 10,
      "outputs": []
    },
    {
      "cell_type": "code",
      "metadata": {
        "id": "w5WAo8E3rs74"
      },
      "source": [
        "# Splitting the data into data to use to train and data to test against.\r\n",
        "from sklearn.model_selection import train_test_split\r\n",
        "X_train, X_test, Y_train, Y_test = train_test_split(x, y, test_size = 0.3) # Going with 7:3 ratio.\r\n",
        "Y_train = np.reshape(Y_train, (-1,1))\r\n",
        "Y_test = np.reshape(Y_test, (-1,1))"
      ],
      "execution_count": 11,
      "outputs": []
    },
    {
      "cell_type": "code",
      "metadata": {
        "id": "YclJCZWhrtyP"
      },
      "source": [
        "# Setting up the model to learn using the SVM classifier.\r\n",
        "# We want C to be around 1 to 3 and for the kernel to be linear\r\n",
        "from sklearn.svm import SVC\r\n",
        "svm_clf = SVC(kernel=\"linear\", C=2, gamma='scale', probability=True, random_state = 0)\r\n",
        "svm_clf.fit(X_train,Y_train)\r\n",
        "Y_pred_svm = svm_clf.predict(X_test)\r\n",
        "Y_prob_svm = svm_clf.predict_proba(X_test)[:,1]"
      ],
      "execution_count": null,
      "outputs": []
    },
    {
      "cell_type": "code",
      "metadata": {
        "colab": {
          "base_uri": "https://localhost:8080/"
        },
        "id": "ZRqadpqxruoy",
        "outputId": "c1956088-e1c6-4907-e102-f5138b9ca27a"
      },
      "source": [
        "# Using the sklearn metrics to generate an accuracy report of the SVM\r\n",
        "from sklearn import metrics\r\n",
        "accuracy = metrics.accuracy_score(Y_test, Y_pred_svm)\r\n",
        "print(\"SVM Accuracy: \", accuracy/0.01, \"%\")"
      ],
      "execution_count": 13,
      "outputs": [
        {
          "output_type": "stream",
          "text": [
            "SVM Accuracy:  92.39766081871345 %\n"
          ],
          "name": "stdout"
        }
      ]
    },
    {
      "cell_type": "markdown",
      "metadata": {
        "id": "yLQB5vaHZLSf"
      },
      "source": [
        "Sources: \r\n",
        "\r\n",
        "https://datascience.stackexchange.com/a/22821\r\n",
        "\r\n",
        "https://jakevdp.github.io/PythonDataScienceHandbook/05.02-introducing-scikit-learn.html\r\n",
        "\r\n",
        "https://realpython.com/train-test-split-python-data/\r\n",
        "\r\n",
        "https://scikit-learn.org/stable/modules/generated/sklearn.svm.SVC.html\r\n",
        "\r\n",
        "https://randerson112358.medium.com/breast-cancer-detection-using-machine-learning-38820fe98982\r\n",
        "\r\n",
        "https://scikit-learn.org/stable/modules/generated/sklearn.metrics.accuracy_score.html\r\n",
        "\r\n",
        "https://scikit-learn.org/stable/modules/generated/sklearn.datasets.load_breast_cancer.html#sklearn.datasets.load_breast_cancer\r\n",
        "\r\n",
        "https://scikit-learn.org/stable/modules/svm.html#classification\r\n"
      ]
    },
    {
      "cell_type": "markdown",
      "metadata": {
        "id": "ypFizl7Ijcjs"
      },
      "source": [
        "Question 3: Apply KMeans and Spectral Clustering on two circles data, and plot the results."
      ]
    },
    {
      "cell_type": "code",
      "metadata": {
        "id": "8II_IOqoeSHB"
      },
      "source": [
        "# Loading the dataset and generating the cirlcles.\r\n",
        "# We want 500 points for our circles and .01 deviation of Gaussian noise\r\n",
        "import sklearn.datasets as skl_data\r\n",
        "import sklearn.datasets.samples_generator as skl_smpl\r\n",
        "data, cluster_id = skl_smpl.make_blobs(n_samples=400, cluster_std=0.75, centers=4, random_state=1)"
      ],
      "execution_count": 47,
      "outputs": []
    },
    {
      "cell_type": "code",
      "metadata": {
        "id": "k9NgCScTp44I"
      },
      "source": [
        "# Clustering with Kmeans. \r\n",
        "# Initializing the Kmeans module and telling it how many clusters to look for.\r\n",
        "# Fitting the data and getting our prediction\r\n",
        "import sklearn.cluster as skl_cluster\r\n",
        "Kmean = skl_cluster.KMeans(n_clusters=4) \r\n",
        "Kmean.fit(data)\r\n",
        "clusters = Kmean.predict(data)"
      ],
      "execution_count": 49,
      "outputs": []
    },
    {
      "cell_type": "code",
      "metadata": {
        "colab": {
          "base_uri": "https://localhost:8080/",
          "height": 265
        },
        "id": "SakOLTzZp6HZ",
        "outputId": "ffb37fdd-fb3c-4303-9a53-740dc28053af"
      },
      "source": [
        "# Plotting the data and coloring it by cluster using cool matplotlib stuff\r\n",
        "plt.scatter(data[:, 0], data[:, 1], s=5, linewidth=0, c=clusters)\r\n",
        "for cluster_i, cluster_j in Kmean.cluster_centers_:\r\n",
        "    plt.scatter(cluster_i, cluster_j, s=100, c='r', marker='x')"
      ],
      "execution_count": 52,
      "outputs": [
        {
          "output_type": "display_data",
          "data": {
            "image/png": "[encoded data removed]",
            "text/plain": [
              "<Figure size 432x288 with 1 Axes>"
            ]
          },
          "metadata": {
            "tags": [],
            "needs_background": "light"
          }
        }
      ]
    },
    {
      "cell_type": "code",
      "metadata": {
        "id": "A3HCoxvOp8vg"
      },
      "source": [
        "# TODO: cluster with spectral clustering"
      ],
      "execution_count": null,
      "outputs": []
    },
    {
      "cell_type": "markdown",
      "metadata": {
        "id": "AdFNOqWyouZj"
      },
      "source": [
        "Sources: \r\n",
        "\r\n",
        "https://medium.com/pursuitnotes/k-means-clustering-model-in-6-steps-with-python-35b532cfa8ad\r\n",
        "\r\n",
        "https://scikit-learn.org/stable/modules/generated/sklearn.datasets.make_circles.html\r\n",
        "\r\n",
        "https://scikit-learn.org/stable/modules/classes.html#module-sklearn.cluster\r\n",
        "\r\n",
        "https://scikit-learn.org/stable/modules/generated/sklearn.cluster.KMeans.html\r\n",
        "\r\n",
        "https://www.youtube.com/watch?v=ikt0sny_ImY\r\n",
        "\r\n",
        "https://matplotlib.org/3.1.1/api/_as_gen/matplotlib.pyplot.scatter.html"
      ]
    }
  ]
}